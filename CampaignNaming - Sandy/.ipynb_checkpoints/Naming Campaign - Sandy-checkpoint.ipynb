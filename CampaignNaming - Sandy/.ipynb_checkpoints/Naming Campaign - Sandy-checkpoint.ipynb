{
 "cells": [
  {
   "cell_type": "code",
   "execution_count": 2,
   "metadata": {},
   "outputs": [],
   "source": [
    "import pandas as pd\n",
    "import numpy as np\n",
    "# import data sets\n",
    "test_names = pd.read_excel('Test Campaign Names.xlsx')\n",
    "# reference (a new excel file with different sheets)\n",
    "client_short_names = pd.ExcelFile('Campaign Naming Convention.xlsx').parse(0)\n",
    "channel = pd.ExcelFile('Campaign Naming Convention.xlsx').parse(1) \n",
    "tactic = pd.ExcelFile('Campaign Naming Convention.xlsx').parse(2)\n",
    "brand = pd.ExcelFile('Campaign Naming Convention.xlsx').parse(3) \n",
    "criterion = pd.ExcelFile('Campaign Naming Convention.xlsx').parse(4) \n",
    "country = pd.ExcelFile('Campaign Naming Convention.xlsx').parse(5) \n",
    "language = pd.ExcelFile('Campaign Naming Convention.xlsx').parse(6) \n",
    "engine = pd.ExcelFile('Campaign Naming Convention.xlsx').parse(7) \n",
    "\n",
    "####this new df deletes hidden columns like 'O/S/B' and 'O/S/B short'."
   ]
  },
  {
   "cell_type": "markdown",
   "metadata": {},
   "source": [
    "## General Rules to Consider"
   ]
  },
  {
   "cell_type": "code",
   "execution_count": 3,
   "metadata": {},
   "outputs": [],
   "source": [
    "# whether there are 10 dashes in each campaign name\n",
    "def countdash(df):\n",
    "    #change each cell in test_names as a string \n",
    "    campaign_name = list(df['Campaign name'])\n",
    "    for i in campaign_name:\n",
    "        index = df[df['Campaign name']==i].index.tolist()[0]\n",
    "        if i.count('_') == 10:\n",
    "            df.loc[index,'countdash'] = 'Pass'\n",
    "        else:\n",
    "            df.loc[index,'countdash'] = 'Fail'\n",
    "    return df"
   ]
  },
  {
   "cell_type": "code",
   "execution_count": 4,
   "metadata": {},
   "outputs": [],
   "source": [
    "# for those sections that are not up to creater, whether they have correct info\n",
    "def correct_info(df):\n",
    "    for i in df[\"Campaign name\"]:\n",
    "        index = df[df['Campaign name'] == i].index.tolist()[0]\n",
    "        if i.split(\"_\")[1] in list(client_short_names.client_short_name.unique()) and \\\n",
    "        i.split(\"_\")[3] in list(channel.Channel.unique()) and \\\n",
    "        i.split(\"_\")[4] in list(tactic.Tactic.unique()) and \\\n",
    "        i.split(\"_\")[5] in list(brand['Brand/Non/Comp'].unique()) and \\\n",
    "        i.split(\"_\")[6] in list(criterion['Criterion Type'].unique()) and \\\n",
    "        i.split(\"_\")[8] in list(country.Country.unique()) and \\\n",
    "        i.split(\"_\")[9] in list(language.Language.unique()) and \\\n",
    "        i.split(\"_\")[10] in list(engine.Engine.unique()):\n",
    "            df.loc[index,'info'] = 'Pass'\n",
    "        else:\n",
    "            df.loc[index,'info'] = 'Fail'\n",
    "    return df"
   ]
  },
  {
   "cell_type": "code",
   "execution_count": 5,
   "metadata": {},
   "outputs": [],
   "source": [
    "dic_tactic = {}\n",
    "for index,row in tactic.iterrows():\n",
    "    dic_tactic[row[0]] = row[1]\n",
    "dic_tactic = {v : k for k, v in dic_tactic.items()}\n",
    "\n",
    "# matching in tactic\n",
    "def match(df):\n",
    "    for i in df['Campaign name']:\n",
    "        index = df[df['Campaign name']==i].index.tolist()[0]\n",
    "        if i.split('_')[4] in dic_tactic.keys():\n",
    "            if i.split('_')[3] in dic_tactic[i.split('_')[4]]:\n",
    "                df.loc[index,'match']='Pass'\n",
    "            else:\n",
    "                df.loc[index,'match']='Fail'\n",
    "        else:\n",
    "            df.loc[index,'match']='Fail'\n",
    "    return df"
   ]
  },
  {
   "cell_type": "code",
   "execution_count": 6,
   "metadata": {},
   "outputs": [],
   "source": [
    "# whether there are at most 5 dashes for product name \n",
    "def five_dash(df):\n",
    "    campaign_name = list(df['Campaign name'])\n",
    "    for i in campaign_name:\n",
    "        index = df[df['Campaign name']==i].index.tolist()[0]\n",
    "        if i.split(\"_\")[2].count('-') <= 5:\n",
    "            df.loc[index,'five_dash'] = 'Pass'\n",
    "        else:\n",
    "            df.loc[index,'five_dash'] = 'Fail'\n",
    "    return df"
   ]
  },
  {
   "cell_type": "markdown",
   "metadata": {},
   "source": [
    "## Specific Rules for Non-Paid Campaigns"
   ]
  },
  {
   "cell_type": "code",
   "execution_count": 7,
   "metadata": {},
   "outputs": [],
   "source": [
    "# whether is Paid Social channel \n",
    "def non_ps(df):\n",
    "    for i in df[\"Campaign name\"]:\n",
    "        index = df[df['Campaign name']==i].index.tolist()[0]\n",
    "        if i.split(\"_\")[3] != 'PS':\n",
    "            df.loc[index,'non_ps'] = 'Pass'\n",
    "        else:\n",
    "            df.loc[index,'non_ps'] = 'Fail'\n",
    "    return df"
   ]
  },
  {
   "cell_type": "code",
   "execution_count": 8,
   "metadata": {},
   "outputs": [],
   "source": [
    "# whether there is 'PS' to represent social Tactic and Engine\n",
    "tactic_ps = []\n",
    "for i in range(len(tactic['Tactic Long'])):\n",
    "    if '(PS)' in tactic['Tactic Long'][i]:\n",
    "        tactic_ps.append(tactic['Tactic'][i])\n",
    "\n",
    "engine_ps = []\n",
    "for i in range(len(engine['Engine Long'])):\n",
    "    if '(PS)' in engine['Engine Long'][i]:\n",
    "        engine_ps.append(engine['Engine'][i])\n",
    "\n",
    "def non_social(df):\n",
    "    for i in df[\"Campaign name\"]:\n",
    "        index = df[df['Campaign name']==i].index.tolist()[0]\n",
    "        if i.split(\"_\")[4] in tactic_ps or i.split(\"_\")[9] in engine_ps:  \n",
    "            df.loc[index,'non_social'] = 'Fail'\n",
    "        else:\n",
    "            df.loc[index,'non_social'] = 'Pass'\n",
    "    return df\n"
   ]
  },
  {
   "cell_type": "markdown",
   "metadata": {},
   "source": [
    "## Application "
   ]
  },
  {
   "cell_type": "code",
   "execution_count": 9,
   "metadata": {},
   "outputs": [],
   "source": [
    "def Naming (df):\n",
    "    df = countdash(df)\n",
    "    df = correct_info(df)\n",
    "    df = match(df)\n",
    "    df = five_dash(df)\n",
    "    df = non_ps(df)\n",
    "    df = non_social(df)\n",
    "    for index, row in df.iterrows():\n",
    "        if 'Fail' in list(row)[1:7]:\n",
    "            df.loc[index,'Final Result'] = 'Fail'\n",
    "        else:\n",
    "            df.loc[index,'Final Result'] = 'Pass'\n",
    "    df = df.drop(columns=\"countdash\")\n",
    "    df = df.drop(columns=\"info\")\n",
    "    df = df.drop(columns='match')\n",
    "    df = df.drop(columns=\"five_dash\")\n",
    "    df = df.drop(columns=\"non_ps\")\n",
    "    df = df.drop(columns=\"non_social\")\n",
    "    return df "
   ]
  },
  {
   "cell_type": "code",
   "execution_count": 10,
   "metadata": {},
   "outputs": [
    {
     "data": {
      "text/plain": [
       "Pass    112\n",
       "Fail      3\n",
       "Name: Final Result, dtype: int64"
      ]
     },
     "execution_count": 10,
     "metadata": {},
     "output_type": "execute_result"
    }
   ],
   "source": [
    "Naming(test_names)['Final Result'].value_counts()"
   ]
  },
  {
   "cell_type": "code",
   "execution_count": null,
   "metadata": {},
   "outputs": [],
   "source": []
  }
 ],
 "metadata": {
  "kernelspec": {
   "display_name": "Python 3",
   "language": "python",
   "name": "python3"
  },
  "language_info": {
   "codemirror_mode": {
    "name": "ipython",
    "version": 3
   },
   "file_extension": ".py",
   "mimetype": "text/x-python",
   "name": "python",
   "nbconvert_exporter": "python",
   "pygments_lexer": "ipython3",
   "version": "3.6.5"
  }
 },
 "nbformat": 4,
 "nbformat_minor": 2
}
